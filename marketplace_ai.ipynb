{
  "nbformat": 4,
  "nbformat_minor": 0,
  "metadata": {
    "colab": {
      "provenance": [],
      "authorship_tag": "ABX9TyNNgZ36iShoz5Ca0WHw3tba",
      "include_colab_link": true
    },
    "kernelspec": {
      "name": "python3",
      "display_name": "Python 3"
    },
    "language_info": {
      "name": "python"
    }
  },
  "cells": [
    {
      "cell_type": "markdown",
      "metadata": {
        "id": "view-in-github",
        "colab_type": "text"
      },
      "source": [
        "<a href=\"https://colab.research.google.com/github/rdrgzbhnng/marketplace_ai/blob/main/marketplace_ai.ipynb\" target=\"_parent\"><img src=\"https://colab.research.google.com/assets/colab-badge.svg\" alt=\"Open In Colab\"/></a>"
      ]
    },
    {
      "cell_type": "code",
      "execution_count": 9,
      "metadata": {
        "colab": {
          "base_uri": "https://localhost:8080/",
          "height": 36
        },
        "id": "UTbDCHDWHRuS",
        "outputId": "838640ee-4953-49c0-91f8-4c195e7341d8"
      },
      "outputs": [
        {
          "output_type": "execute_result",
          "data": {
            "text/plain": [
              "'O modelo de IA Gemini foi criado pelo Google. \\n'"
            ],
            "application/vnd.google.colaboratory.intrinsic+json": {
              "type": "string"
            }
          },
          "metadata": {},
          "execution_count": 9
        }
      ],
      "source": [
        "#Instalando o SDK do Google\n",
        "!pip install -q -U google-generativeai\n",
        "\n",
        "#Configurações iniciais\n",
        "import google.generativeai as genai\n",
        "from google.colab import userdata\n",
        "\n",
        "API_KEY = userdata.get('GOOGLE_API_KEY')\n",
        "genai.configure(api_key=API_KEY)\n",
        "\n",
        "generation_config = {\n",
        "    \"candidate_count\": 1,\n",
        "    \"temperature\": 0.5,\n",
        "}\n",
        "\n",
        "safety_settings={\n",
        "    'HATE': 'BLOCK_NONE',\n",
        "    'HARASSMENT': 'BLOCK_NONE',\n",
        "    'SEXUAL' : 'BLOCK_NONE',\n",
        "    'DANGEROUS' : 'BLOCK_NONE'\n",
        "}\n",
        "\n",
        "model = genai.GenerativeModel(\n",
        "    model_name='gemini-1.5-pro-latest',\n",
        "    generation_config=generation_config,\n",
        "    safety_settings=safety_settings,\n",
        ")\n",
        "\n",
        "response = model.generate_content(\"Que empresa criou o modelo de IA Gemini?\")\n",
        "response.text"
      ]
    },
    {
      "cell_type": "code",
      "source": [
        "# Importar libs\n",
        "import requests\n",
        "import pandas as pd\n",
        "import json\n",
        "\n",
        "# Importar o JSON\n",
        "json_url = 'https://raw.githubusercontent.com/rdrgzbhnng/marketplace_ai/main/liquidity.json'\n",
        "response = requests.get(json_url)\n",
        "\n",
        "if response.status_code == 200:\n",
        "    # Request successful, proceed to parse JSON data\n",
        "    json_data = response.json()\n",
        "else:\n",
        "    # Handle error (e.g., invalid URL or website down)\n",
        "    print('Error fetching JSON data:', response.status_code)\n",
        "\n",
        "# Convertirlo em um DataFrame\n",
        "liquidity_data = pd.DataFrame(json_data)\n",
        "\n",
        "# Explorar data\n",
        "print(liquidity_data.head())  # Display the first few rows"
      ],
      "metadata": {
        "colab": {
          "base_uri": "https://localhost:8080/"
        },
        "id": "kgtaxX1QJ4uc",
        "outputId": "ad56fc36-daa5-403d-ee91-12202f89db9c"
      },
      "execution_count": 72,
      "outputs": [
        {
          "output_type": "stream",
          "name": "stdout",
          "text": [
            "   ID              From                         To Distance   Time   Date  \\\n",
            "0   1  ES 28001  Madrid  ES 01001  Vitoria-Gasteiz    354km  4h58m  09/05   \n",
            "1   2  ES 33001  Oviedo         ES 31001  Pamplona    449km  6h40m  10/05   \n",
            "2   3  ES 28001  Madrid           ES 15001  Coruña    592km   8h9m  10/05   \n",
            "3   4  ES 28001  Madrid         ES 29330  Almargen    544km  7h42m  10/05   \n",
            "4   5  ES 44001  Teruel          ES 10001  Cáceres    603km  8h55m  10/05   \n",
            "\n",
            "  Type of truck Weight Length        Contact  \n",
            "0           Box   0.1t     2m  +34 756 56 45  \n",
            "1           Box   1.5t     6m  +34 769 59 87  \n",
            "2     Tautliner    24t  13.6m  +34 741 00 23  \n",
            "3           Box   9.5t   6.5m  +34 764 56 88  \n",
            "4     Tautliner    24t  13.6m  +34 741 82 46  \n"
          ]
        }
      ]
    },
    {
      "cell_type": "code",
      "source": [
        "# Ver se consegue encontrar o dicionário\n",
        "# ('Pergunta binaria: Pode ler o \"Python dictionary\" liquidity_data? Sim ou não?')\n",
        "response = model.generate_content('Pergunta binaria: Pode ler o Python dataframe \"liquidity_data\"? Sim ou não?')\n",
        "response.text\n",
        "\n",
        "# Ver se consegue entender o dicionário\n",
        "response = model.generate_content('Sabe dizer do que se trata?')\n",
        "response.text"
      ],
      "metadata": {
        "colab": {
          "base_uri": "https://localhost:8080/",
          "height": 91
        },
        "id": "HIxzCCqEvsxs",
        "outputId": "9b9b15e0-d51e-4a24-9851-0abd95bdbf12"
      },
      "execution_count": 73,
      "outputs": [
        {
          "output_type": "execute_result",
          "data": {
            "text/plain": [
              "'Claro! Para eu poder te ajudar, preciso de mais informações. Você poderia me dar mais contexto ou detalhes sobre o que gostaria de saber? \\n\\nPor exemplo, você poderia me dizer:\\n\\n* **Sobre o que você quer saber?** É um evento, um objeto, um conceito, ou algo mais?\\n* **Onde você encontrou essa informação?** Isso pode me ajudar a entender o contexto.\\n* **O que você já sabe sobre isso?** Isso me ajuda a evitar repetir informações que você já tem.\\n\\nQuanto mais informações você me der, melhor eu poderei te ajudar! \\n'"
            ],
            "application/vnd.google.colaboratory.intrinsic+json": {
              "type": "string"
            }
          },
          "metadata": {},
          "execution_count": 73
        }
      ]
    },
    {
      "cell_type": "code",
      "source": [
        "# Explico\n",
        "response = model.generate_content('Se trata de mercadorias que debem ser transportadas de um punto A (\"from\") para um punto B (\"To\"')\n",
        "response.text"
      ],
      "metadata": {
        "colab": {
          "base_uri": "https://localhost:8080/",
          "height": 146
        },
        "id": "4oNl_8yNvwuA",
        "outputId": "3dd8c42d-2020-49e7-902a-ef87ecbcb448"
      },
      "execution_count": 74,
      "outputs": [
        {
          "output_type": "execute_result",
          "data": {
            "text/plain": [
              "'Entendi! Você está lidando com o transporte de mercadorias de um ponto A para um ponto B. Para te ajudar melhor, preciso de mais informações. Por favor, me diga:\\n\\n* **Que tipo de mercadorias são?** (Ex: alimentos, eletrônicos, materiais de construção)\\n* **Qual a quantidade e o peso das mercadorias?**\\n* **Qual a distância entre o ponto A e o ponto B?**\\n* **Qual o prazo para a entrega das mercadorias?**\\n* **Existe algum requisito especial para o transporte?** (Ex: refrigeração, segurança)\\n\\nCom essas informações, posso te ajudar a encontrar a melhor solução de transporte para suas necessidades, considerando fatores como:\\n\\n* **Custo:** Comparar preços de diferentes transportadoras e modais de transporte (rodoviário, ferroviário, aéreo, marítimo).\\n* **Tempo:** Escolher o modal mais rápido para atender ao prazo de entrega.\\n* **Segurança:** Garantir que as mercadorias sejam transportadas com segurança e cheguem ao destino em perfeitas condições.\\n* **Sustentabilidade:** Optar por soluções de transporte com menor impacto ambiental, se for uma prioridade. \\n'"
            ],
            "application/vnd.google.colaboratory.intrinsic+json": {
              "type": "string"
            }
          },
          "metadata": {},
          "execution_count": 74
        }
      ]
    },
    {
      "cell_type": "code",
      "source": [
        "# Conceito de Few-shot prompting\n",
        "\n",
        "first_item = liquidity_data.loc[0]\n",
        "print(first_item)\n",
        "\n",
        "response = model.generate_content('Pergunta: a partir dos dados da variavel \"first_item\": Qual é o valor do \"from\"? Resposta: \"ES 28001  Madrid\"')\n",
        "response.text\n",
        "\n",
        "response = model.generate_content('Sim, \"From\" é o Endereço de Origem, e \"ES\" significa \"Espanha\", \"28001\" é o endereço postal, e o \"Madrid\" é a cidade\"')\n",
        "response.text\n",
        "\n",
        "response = model.generate_content('Se \"From\" é o Endereço de Origem, o que significao \"To\"?')\n",
        "response.text\n"
      ],
      "metadata": {
        "colab": {
          "base_uri": "https://localhost:8080/",
          "height": 238
        },
        "id": "Ax5VLphMhibP",
        "outputId": "88023d5b-006c-4c9d-e4eb-ba35e3e20c76"
      },
      "execution_count": 78,
      "outputs": [
        {
          "output_type": "stream",
          "name": "stdout",
          "text": [
            "ID                                       1\n",
            "From                      ES 28001  Madrid\n",
            "To               ES 01001  Vitoria-Gasteiz\n",
            "Distance                             354km\n",
            "Time                                 4h58m\n",
            "Date                                 09/05\n",
            "Type of truck                          Box\n",
            "Weight                                0.1t\n",
            "Length                                  2m\n",
            "Contact                      +34 756 56 45\n",
            "Name: 0, dtype: object\n"
          ]
        },
        {
          "output_type": "execute_result",
          "data": {
            "text/plain": [
              "'Se \"From\" significa Endereço de Origem, então \"To\" significa **Endereço de Destino**. \\n'"
            ],
            "application/vnd.google.colaboratory.intrinsic+json": {
              "type": "string"
            }
          },
          "metadata": {},
          "execution_count": 78
        }
      ]
    },
    {
      "cell_type": "code",
      "source": [
        "response = model.generate_content('Consulte o Python dataframe \"liquidity_data\" e retorne todas os items com \"From = ES 28001  Madrid\"')\n",
        "response.text"
      ],
      "metadata": {
        "colab": {
          "base_uri": "https://localhost:8080/",
          "height": 91
        },
        "id": "a2aLjuoU4HCh",
        "outputId": "796f1eb0-c100-4a97-fbae-1526a6e1ea2c"
      },
      "execution_count": 95,
      "outputs": [
        {
          "output_type": "execute_result",
          "data": {
            "text/plain": [
              "'```python\\nimport pandas as pd\\n\\n# Assuming your DataFrame is named \"liquidity_data\"\\ndef get_madrid_data(liquidity_data):\\n  \"\"\"\\n  Filters a DataFrame and returns rows where \"From\" is \"ES 28001  Madrid\".\\n\\n  Args:\\n    liquidity_data: A pandas DataFrame containing liquidity data.\\n\\n  Returns:\\n    A pandas DataFrame containing only rows where \"From\" is \"ES 28001  Madrid\".\\n  \"\"\"\\n  return liquidity_data[liquidity_data[\\'From\\'] == \"ES 28001  Madrid\"]\\n\\n# Example usage:\\nmadrid_data = get_madrid_data(liquidity_data)\\nprint(madrid_data)\\n```\\n'"
            ],
            "application/vnd.google.colaboratory.intrinsic+json": {
              "type": "string"
            }
          },
          "metadata": {},
          "execution_count": 95
        }
      ]
    },
    {
      "cell_type": "code",
      "source": [
        "filtered_df = liquidity_data.loc[liquidity_data['From'] == 'ES 28001  Madrid']\n",
        "\n",
        "# Iterate over the filtered DataFrame\n",
        "for index, row in filtered_df.iterrows():\n",
        "    print(f\"Index: {index}, Row: {row}\")"
      ],
      "metadata": {
        "colab": {
          "base_uri": "https://localhost:8080/"
        },
        "id": "yFMAk7WS8t2R",
        "outputId": "458108b8-0b3b-4a1b-c87a-fc2b33e50e79"
      },
      "execution_count": 97,
      "outputs": [
        {
          "output_type": "stream",
          "name": "stdout",
          "text": [
            "Index: 0, Row: ID                                       1\n",
            "From                      ES 28001  Madrid\n",
            "To               ES 01001  Vitoria-Gasteiz\n",
            "Distance                             354km\n",
            "Time                                 4h58m\n",
            "Date                                 09/05\n",
            "Type of truck                          Box\n",
            "Weight                                0.1t\n",
            "Length                                  2m\n",
            "Contact                      +34 756 56 45\n",
            "Name: 0, dtype: object\n",
            "Index: 2, Row: ID                              3\n",
            "From             ES 28001  Madrid\n",
            "To               ES 15001  Coruña\n",
            "Distance                    592km\n",
            "Time                         8h9m\n",
            "Date                        10/05\n",
            "Type of truck           Tautliner\n",
            "Weight                        24t\n",
            "Length                      13.6m\n",
            "Contact             +34 741 00 23\n",
            "Name: 2, dtype: object\n",
            "Index: 3, Row: ID                                4\n",
            "From               ES 28001  Madrid\n",
            "To               ES 29330  Almargen\n",
            "Distance                      544km\n",
            "Time                          7h42m\n",
            "Date                          10/05\n",
            "Type of truck                   Box\n",
            "Weight                         9.5t\n",
            "Length                         6.5m\n",
            "Contact               +34 764 56 88\n",
            "Name: 3, dtype: object\n",
            "Index: 13, Row: ID                                             14\n",
            "From                             ES 28001  Madrid\n",
            "To               ES 15701  Santiago de Compostela\n",
            "Distance                                    600km\n",
            "Time                                        8h10m\n",
            "Date                                        10/05\n",
            "Type of truck                           Tautliner\n",
            "Weight                                        24t\n",
            "Length                                      13.6m\n",
            "Contact                             +34 741 82 46\n",
            "Name: 13, dtype: object\n",
            "Index: 29, Row: ID                             30\n",
            "From             ES 28001  Madrid\n",
            "To                 ES 24001  León\n",
            "Distance                    339km\n",
            "Time                        4h50m\n",
            "Date                        13/05\n",
            "Type of truck           Tautliner\n",
            "Weight                       3.1t\n",
            "Length                         7m\n",
            "Contact             +34 742 26 31\n",
            "Name: 29, dtype: object\n",
            "Index: 43, Row: ID                             44\n",
            "From             ES 28001  Madrid\n",
            "To               ES 49001  Zamora\n",
            "Distance                    254km\n",
            "Time                        3h43m\n",
            "Date                        10/05\n",
            "Type of truck           Tautliner\n",
            "Weight                         4t\n",
            "Length                         7m\n",
            "Contact             +34 741 82 46\n",
            "Name: 43, dtype: object\n"
          ]
        }
      ]
    },
    {
      "cell_type": "code",
      "source": [
        "response = model.generate_content(\"Pode tentar algo assim: filtered_df = liquidity_data.loc[liquidity_data['From'] == 'ES 28001  Madrid']\")\n",
        "response.text"
      ],
      "metadata": {
        "colab": {
          "base_uri": "https://localhost:8080/",
          "height": 146
        },
        "id": "bndjoFOk9JAm",
        "outputId": "efdac12a-1e3d-4451-b942-8fe0872c311d"
      },
      "execution_count": 100,
      "outputs": [
        {
          "output_type": "execute_result",
          "data": {
            "text/plain": [
              "\"## Analisando o código Python: `filtered_df = liquidity_data.loc[liquidity_data['From'] == 'ES 28001  Madrid']`\\n\\nEste código parece estar filtrando um DataFrame Pandas chamado `liquidity_data` para incluir apenas linhas onde a coluna `'From'` é igual a `'ES 28001  Madrid'`. Vamos analisar passo a passo:\\n\\n* **`liquidity_data`**: Este é o nome do DataFrame Pandas que está sendo filtrado. Assumimos que este DataFrame contém dados relacionados à liquidez, mas precisamos de mais contexto para entender completamente seu conteúdo.\\n* **`.loc[]`**: Este é um método de indexação/seleção do Pandas que permite selecionar dados com base em rótulos (nomes das linhas e colunas). \\n* **`liquidity_data['From'] == 'ES 28001  Madrid'`**: Esta é a condição de filtragem. Ela seleciona apenas as linhas onde o valor na coluna `'From'` é exatamente igual à string `'ES 28001  Madrid'`. \\n* **`filtered_df =`**: O resultado da filtragem, que é um novo DataFrame contendo apenas as linhas que correspondem à condição, é atribuído a uma nova variável chamada `filtered_df`. \\n\\n**Possíveis interpretações:**\\n\\nSem mais contexto, é difícil dizer com certeza o que este código está fazendo. Aqui estão algumas possibilidades:\\n\\n* **Filtrando dados de liquidez por localização:**  `'ES 28001  Madrid'` pode ser um código postal ou alguma outra forma de identificador de localização. O código pode estar filtrando dados de liquidez para uma área geográfica específica.\\n* **Filtrando dados por origem:**  `'From'` pode indicar a origem de um determinado fluxo de liquidez. O código pode estar filtrando dados para mostrar apenas os fluxos que se originam de uma fonte específica, representada por `'ES 28001  Madrid'`.\\n\\n**Para entender completamente o código, precisamos de mais informações sobre:**\\n\\n* **O conteúdo do DataFrame `liquidity_data`**: Quais são as outras colunas presentes? O que elas representam?\\n* **O contexto do problema que está sendo resolvido**: Qual é o objetivo final da análise de dados?\\n\\n**Sugestões:**\\n\\n* **Explorar o DataFrame `liquidity_data`**: Use métodos como `.info()`, `.describe()` e `.head()` para entender a estrutura e o conteúdo do DataFrame.\\n* **Verificar a documentação do Pandas**: A documentação do Pandas oferece informações detalhadas sobre indexação, seleção e filtragem de dados. \\n* **Considerar o contexto do problema**: Tente entender o objetivo final da análise para interpretar melhor o código. \\n\""
            ],
            "application/vnd.google.colaboratory.intrinsic+json": {
              "type": "string"
            }
          },
          "metadata": {},
          "execution_count": 100
        }
      ]
    }
  ]
}